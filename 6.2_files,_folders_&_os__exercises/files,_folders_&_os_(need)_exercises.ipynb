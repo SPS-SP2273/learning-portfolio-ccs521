{
 "cells": [
  {
   "attachments": {},
   "cell_type": "markdown",
   "id": "123456",
   "metadata": {},
   "source": [
    "<div style=\"text-align:left;font-size:2em\"><span style=\"font-weight:bolder;font-size:1.25em\">SP2273 | Learning Portfolio</span><br><br><span style=\"font-weight:bold;color:darkred\">Files, Folders & OS (Need) Exercises</span></div>"
   ]
  },
  {
   "cell_type": "markdown",
   "id": "4b505c8f",
   "metadata": {},
   "source": [
    "## 1 Tidying a collaboration"
   ]
  },
  {
   "cell_type": "code",
   "execution_count": 6,
   "id": "d5b4b0a2",
   "metadata": {},
   "outputs": [
    {
     "name": "stdout",
     "output_type": "stream",
     "text": [
      "10-08_singapore.txt\n",
      "oct-08_singapore.txt---->10-08_singapore.txt\n",
      "jul-10_cairo.txt---->07-10_cairo.txt\n",
      "may-15_dhaka.txt---->05-15_dhaka.txt\n",
      "may-13_cairo.txt---->05-13_cairo.txt\n",
      "oct-21_cairo.txt---->10-21_cairo.txt\n",
      "jan-10_singapore.txt---->01-10_singapore.txt\n",
      "jun-20_tokyo.txt---->06-20_tokyo.txt\n",
      "aug-06_jakarta.txt---->08-06_jakarta.txt\n",
      "dec-21_karachi.txt---->12-21_karachi.txt\n",
      "jan-01_tokyo.txt---->01-01_tokyo.txt\n"
     ]
    }
   ],
   "source": [
    "# Tasks 1-2\n",
    "months = {\n",
    "'jan': '01', 'feb': '02', 'mar': '03',\n",
    "'apr': '04', 'may': '05', 'jun': '06',\n",
    "'jul': '07', 'aug': '08', 'sep': '09',\n",
    "'oct': '10', 'nov': '11', 'dec': '12'\n",
    "}\n",
    "\n",
    "def rename_my_file(old_file_name):\n",
    "    text_list = old_file_name.split(\"-\") # Obtain a list with month as the first element\n",
    "    text_list[0] = months[text_list[0]] # Changes the month to numerical format\n",
    "    return f\"{text_list[0]}-{text_list[1]}\" # Return the required string\n",
    "\n",
    "print(rename_my_file(\"oct-08_singapore.txt\")) # Expected output 10-08_singapore.txt\n",
    "\n",
    "# Task 3\n",
    "file_list = ['oct-08_singapore.txt', 'jul-10_cairo.txt', 'may-15_dhaka.txt',\n",
    " 'may-13_cairo.txt', 'oct-21_cairo.txt', 'jan-10_singapore.txt',\n",
    " 'jun-20_tokyo.txt', 'aug-06_jakarta.txt', 'dec-21_karachi.txt',\n",
    " 'jan-01_tokyo.txt']\n",
    "\n",
    "for file in file_list:\n",
    "    print(f\"{file}---->{rename_my_file(file)}\")"
   ]
  },
  {
   "cell_type": "code",
   "execution_count": 10,
   "id": "b27e8bba",
   "metadata": {},
   "outputs": [
    {
     "name": "stdout",
     "output_type": "stream",
     "text": [
      " Cairo folder already exists\n",
      " Dhaka folder already exists\n",
      " Jakarta folder already exists\n",
      " Karachi folder already exists\n",
      " Manila folder already exists\n",
      " Melbourne folder already exists\n",
      " Osaka folder already exists\n",
      " Shanghai folder already exists\n",
      " Singapore folder already exists\n",
      " Tokyo folder already exists\n"
     ]
    }
   ],
   "source": [
    "# Task 4\n",
    "import os\n",
    "import glob\n",
    "import shutil\n",
    "\n",
    "text_files = glob.glob(\"./*data/*.txt\") # Obtain a list of txt files\n",
    "dir_name = r\".\\os-collaboration-exercise-data\" # All files are in the same directory\n",
    "\n",
    "def system_renaming(old_file_name):\n",
    "    filename = os.path.split(old_file_name)[-1]\n",
    "    if not (filename.split(\"-\")[0].isnumeric()): # Check if the month is already in numerical format\n",
    "        new_file_name = rename_my_file(filename)\n",
    "        return os.path.join(dir_name, new_file_name) # Returns the new file path\n",
    "        \n",
    "for file in text_files:\n",
    "    new_file_path = system_renaming(file)\n",
    "    try:\n",
    "        os.rename(file, new_file_path)\n",
    "    except TypeError: # If the file has already been renamed\n",
    "        continue\n",
    "    \n",
    "\n",
    "# Task 5\n",
    "cities = ['Cairo', 'Dhaka', 'Jakarta', 'Karachi', 'Manila',\n",
    " 'Melbourne', 'Osaka', 'Shanghai', 'Singapore', 'Tokyo']\n",
    "\n",
    "for city in cities:\n",
    "    city_path = os.path.join(dir_name, city) \n",
    "    try:\n",
    "        os.mkdir(city_path)\n",
    "    except FileExistsError: # If the folder directory has already been created\n",
    "        print(f\" {city} folder already exists\")\n"
   ]
  },
  {
   "cell_type": "code",
   "execution_count": null,
   "id": "213b6222",
   "metadata": {},
   "outputs": [],
   "source": [
    "# Task 6\n",
    "cairo_files = glob.glob(\"./*data/*cairo.*\") # List of files containing \"cairo\", excluding the folder itself\n",
    "cairo_path = os.path.join(dir_name, \"Cairo\")\n",
    "for file in cairo_files:\n",
    "    shutil.copy(file, cairo_path) # Seems like no exceptions are generated\n",
    "\n",
    "# Task 7\n",
    "city_file_name = [city.lower() for city in cities] # Gives names of cities in lower case\n",
    "\n",
    "for i in range(len(cities)): # Loops through all 10 cities\n",
    "    city_files = glob.glob(f\"./*data/*{city_file_name[i]}.*\") # List of files containing the city name\n",
    "    for file in city_files:\n",
    "        file_name = os.path.split(file)[-1] # Obtain the filename for each file\n",
    "        source_path = os.path.join(dir_name, file_name) # Obtain the current file path\n",
    "        new_city_path = os.path.join(dir_name, cities[i], file_name) # Create the destination file path\n",
    "        shutil.move(source_path, new_city_path) # Seems like no exceptions are generated\n",
    "        "
   ]
  }
 ],
 "metadata": {
  "kernelspec": {
   "display_name": "base",
   "language": "python",
   "name": "python3"
  },
  "language_info": {
   "codemirror_mode": {
    "name": "ipython",
    "version": 3
   },
   "file_extension": ".py",
   "mimetype": "text/x-python",
   "name": "python",
   "nbconvert_exporter": "python",
   "pygments_lexer": "ipython3",
   "version": "3.13.5"
  },
  "toc": {
   "base_numbering": 1,
   "nav_menu": {},
   "number_sections": true,
   "sideBar": true,
   "skip_h1_title": false,
   "title_cell": "Table of Contents",
   "title_sidebar": "Contents",
   "toc_cell": false,
   "toc_position": {},
   "toc_section_display": true,
   "toc_window_display": false
  }
 },
 "nbformat": 4,
 "nbformat_minor": 5
}
