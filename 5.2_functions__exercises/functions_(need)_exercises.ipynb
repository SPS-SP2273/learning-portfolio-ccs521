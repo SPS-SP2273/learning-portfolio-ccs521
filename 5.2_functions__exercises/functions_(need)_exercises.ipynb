{
 "cells": [
  {
   "attachments": {},
   "cell_type": "markdown",
   "id": "123456",
   "metadata": {},
   "source": [
    "<div style=\"text-align:left;font-size:2em\"><span style=\"font-weight:bolder;font-size:1.25em\">SP2273 | Learning Portfolio</span><br><br><span style=\"font-weight:bold;color:darkred\">Functions (Need) Exercises</span></div>"
   ]
  },
  {
   "cell_type": "markdown",
   "id": "e07faef8",
   "metadata": {},
   "source": [
    "## 1 Do you know why"
   ]
  },
  {
   "cell_type": "markdown",
   "id": "fd1505bf",
   "metadata": {},
   "source": [
    "If the name is indeed \"Batman\", the first return statement is executed and the code stops. The last return statement acts somewhat as a default return value if the \"if\" condition is not fulfiled, so it basically acts as an \"else\" statement."
   ]
  },
  {
   "cell_type": "markdown",
   "id": "9c28d478",
   "metadata": {},
   "source": [
    "## 2 Chubby or not"
   ]
  },
  {
   "cell_type": "code",
   "execution_count": 4,
   "id": "e8e8869a",
   "metadata": {},
   "outputs": [
    {
     "name": "stdout",
     "output_type": "stream",
     "text": [
      "Overweight\n"
     ]
    }
   ],
   "source": [
    "def calculate_bmi(weight, height):\n",
    "    BMI = weight / (height**2)\n",
    "    if BMI < 18.5:\n",
    "        return \"Underweight\"\n",
    "    elif 18.5 <= BMI <= 24.9:\n",
    "        return \"Normal weight\"\n",
    "    elif 25 <= BMI <= 29.9:\n",
    "        return \"Overweight\"\n",
    "    else:\n",
    "        return \"Obese\"\n",
    "    \n",
    "user_weight = float(input(\"Weight: \"))\n",
    "user_height = float(input(\"Height: \"))\n",
    "    \n",
    "print(calculate_bmi(user_weight, user_height))"
   ]
  },
  {
   "cell_type": "code",
   "execution_count": 7,
   "id": "b78fb5ae",
   "metadata": {},
   "outputs": [
    {
     "name": "stdout",
     "output_type": "stream",
     "text": [
      "Underweight\n",
      "Normal weight\n",
      "Overweight\n",
      "Obese\n",
      "Invalid input\n",
      "Invalid input\n"
     ]
    }
   ],
   "source": [
    "# Handling undefined inputs\n",
    "\n",
    "def calculate_bmi(weight, height):\n",
    "    try:\n",
    "        BMI = weight / (height**2)\n",
    "        if BMI < 18.5:\n",
    "            return \"Underweight\"\n",
    "        elif BMI < 25:\n",
    "            return \"Normal weight\"\n",
    "        elif BMI < 30:\n",
    "            return \"Overweight\"\n",
    "        else:\n",
    "            return \"Obese\"\n",
    "    except (ZeroDivisionError, TypeError):\n",
    "        return \"Invalid input\"\n",
    "\n",
    "print(calculate_bmi(20, 1.8)) # Expect Underweight\n",
    "print(calculate_bmi(60, 1.8)) # Expect Normal weight\n",
    "print(calculate_bmi(90, 1.8)) # Expect Overweight\n",
    "print(calculate_bmi(120, 1.8)) # Expect Obese\n",
    "print(calculate_bmi(0, 0)) # Expect Error\n",
    "print(calculate_bmi(\"hello\", \"world\")) # Expect Error\n"
   ]
  },
  {
   "cell_type": "markdown",
   "id": "ea4bd510",
   "metadata": {},
   "source": [
    "## 3 Factorials"
   ]
  },
  {
   "cell_type": "code",
   "execution_count": null,
   "id": "f57f7045",
   "metadata": {},
   "outputs": [
    {
     "name": "stdout",
     "output_type": "stream",
     "text": [
      "5! is 120\n"
     ]
    }
   ],
   "source": [
    "def factorial(n):\n",
    "    calc_factorial = 1\n",
    "    for i in range(1, n+1):\n",
    "        calc_factorial *= i\n",
    "    return calc_factorial\n",
    "number = int(input(\"Enter a number: \"))\n",
    "if number < 0:\n",
    "    print(\"Please enter a non-negative integer\")\n",
    "else:\n",
    "    print(f\"{number}! is {factorial(number)}\")"
   ]
  },
  {
   "cell_type": "code",
   "execution_count": 21,
   "id": "c285f09e",
   "metadata": {},
   "outputs": [
    {
     "name": "stdout",
     "output_type": "stream",
     "text": [
      "5! is 120\n",
      "0! is 1\n",
      "-5! is Undefined\n"
     ]
    }
   ],
   "source": [
    "# Gracefully rejecting negative numbers\n",
    "def factorial(n):\n",
    "    if n < 0:\n",
    "        return \"Undefined\"\n",
    "    calc_factorial = 1\n",
    "    for i in range(1, n+1):\n",
    "        calc_factorial *= i\n",
    "    return calc_factorial\n",
    "\n",
    "print(f\"5! is {factorial(5)}\") # Expect 120\n",
    "print(f\"0! is {factorial(0)}\") # Expect 1\n",
    "print(f\"-5! is {factorial(-5)}\") # Expect Error"
   ]
  }
 ],
 "metadata": {
  "kernelspec": {
   "display_name": "base",
   "language": "python",
   "name": "python3"
  },
  "language_info": {
   "codemirror_mode": {
    "name": "ipython",
    "version": 3
   },
   "file_extension": ".py",
   "mimetype": "text/x-python",
   "name": "python",
   "nbconvert_exporter": "python",
   "pygments_lexer": "ipython3",
   "version": "3.13.5"
  },
  "toc": {
   "base_numbering": 1,
   "nav_menu": {},
   "number_sections": true,
   "sideBar": true,
   "skip_h1_title": false,
   "title_cell": "Table of Contents",
   "title_sidebar": "Contents",
   "toc_cell": false,
   "toc_position": {},
   "toc_section_display": true,
   "toc_window_display": false
  }
 },
 "nbformat": 4,
 "nbformat_minor": 5
}
