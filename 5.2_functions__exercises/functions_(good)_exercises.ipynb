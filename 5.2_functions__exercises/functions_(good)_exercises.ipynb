{
 "cells": [
  {
   "attachments": {},
   "cell_type": "markdown",
   "id": "123456",
   "metadata": {},
   "source": [
    "<div style=\"text-align:left;font-size:2em\"><span style=\"font-weight:bolder;font-size:1.25em\">SP2273 | Learning Portfolio</span><br><br><span style=\"font-weight:bold;color:darkred\">Functions (Good) Exercises</span></div>"
   ]
  },
  {
   "cell_type": "markdown",
   "id": "8997e4dc",
   "metadata": {},
   "source": [
    "## 1 Celsius to Fahrenheit or Kelvin"
   ]
  },
  {
   "cell_type": "code",
   "execution_count": 1,
   "id": "d54ac906",
   "metadata": {},
   "outputs": [
    {
     "name": "stdout",
     "output_type": "stream",
     "text": [
      "64.4\n"
     ]
    }
   ],
   "source": [
    "def convert_celsius(temperature_celsius, target_scale=\"fahrenheit\"):\n",
    "    if target_scale == \"kelvin\":\n",
    "        return temperature_celsius + 273.15\n",
    "    return temperature_celsius* 9/5 + 32\n",
    "celsius = float(input(\"Enter the Celsius temperature: \"))\n",
    "conversion = (input(\"Enter the target scale: \")).lower().strip()\n",
    "print(convert_celsius(celsius,conversion))"
   ]
  },
  {
   "cell_type": "markdown",
   "id": "2b8f0072",
   "metadata": {},
   "source": [
    "## 2 Fahrenheit to Celsius or Kelvin"
   ]
  },
  {
   "cell_type": "code",
   "execution_count": 2,
   "id": "ea9c2824",
   "metadata": {},
   "outputs": [
    {
     "name": "stdout",
     "output_type": "stream",
     "text": [
      "323.15\n"
     ]
    }
   ],
   "source": [
    "def convert_fahrenheit(temperature_fahrenheit, target_scale=\"celsius\"):\n",
    "    celsius = (temperature_fahrenheit - 32) * 5/9\n",
    "    if target_scale == \"kelvin\":\n",
    "        return celsius + 273.15\n",
    "    return celsius\n",
    "fahrenheit = float(input(\"Enter the Fahrenheit temperature: \"))\n",
    "conversion = (input(\"Enter the target scale: \")).lower().strip()\n",
    "print(convert_fahrenheit(fahrenheit,conversion))"
   ]
  },
  {
   "cell_type": "markdown",
   "id": "53de8f25",
   "metadata": {},
   "source": [
    "## 3 General Temperature Conversion"
   ]
  },
  {
   "cell_type": "code",
   "execution_count": null,
   "id": "cc99e052",
   "metadata": {},
   "outputs": [
    {
     "name": "stdout",
     "output_type": "stream",
     "text": [
      "122.0\n"
     ]
    }
   ],
   "source": [
    "# We first implement a function for Kelvn to Celsius or Fahrenheit\n",
    "def convert_kelvin(temperature_kelvin, target_scale=\"celsius\"):\n",
    "    celsius = temperature_kelvin - 273.15\n",
    "    if target_scale == \"fahrenheit\":\n",
    "        return celsius * 9/5 + 32\n",
    "    return celsius\n",
    "\n",
    "def convert_temperature(temperature, source_scale, target_scale):\n",
    "    if source_scale == \"fahrenheit\":\n",
    "        return(convert_fahrenheit(temperature, target_scale))\n",
    "    elif source_scale == \"celsius\":\n",
    "        return(convert_celsius(temperature, target_scale))\n",
    "    else:\n",
    "        return(convert_kelvin(temperature, target_scale))\n",
    "    \n",
    "input_temperature = float(input(\"Enter the temperature: \"))\n",
    "input_scale = (input(\"Enter the source scale: \")).lower().strip()\n",
    "output_scale = (input(\"Enter the target scale: \")).lower().strip()\n",
    "print(convert_temperature(input_temperature, input_scale, output_scale))"
   ]
  }
 ],
 "metadata": {
  "kernelspec": {
   "display_name": "base",
   "language": "python",
   "name": "python3"
  },
  "language_info": {
   "codemirror_mode": {
    "name": "ipython",
    "version": 3
   },
   "file_extension": ".py",
   "mimetype": "text/x-python",
   "name": "python",
   "nbconvert_exporter": "python",
   "pygments_lexer": "ipython3",
   "version": "3.13.5"
  },
  "toc": {
   "base_numbering": 1,
   "nav_menu": {},
   "number_sections": true,
   "sideBar": true,
   "skip_h1_title": false,
   "title_cell": "Table of Contents",
   "title_sidebar": "Contents",
   "toc_cell": false,
   "toc_position": {},
   "toc_section_display": true,
   "toc_window_display": false
  }
 },
 "nbformat": 4,
 "nbformat_minor": 5
}
