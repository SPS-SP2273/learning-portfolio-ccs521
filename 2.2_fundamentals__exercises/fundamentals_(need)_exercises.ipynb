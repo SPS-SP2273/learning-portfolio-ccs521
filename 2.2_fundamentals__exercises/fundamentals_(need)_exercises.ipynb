{
 "cells": [
  {
   "attachments": {},
   "cell_type": "markdown",
   "id": "123456",
   "metadata": {},
   "source": [
    "<div style=\"text-align:left;font-size:2em\"><span style=\"font-weight:bolder;font-size:1.25em\">SP2273 | Learning Portfolio</span><br><br><span style=\"font-weight:bold;color:darkred\">Fundamentals (Need) Exercises</span></div>"
   ]
  },
  {
   "cell_type": "markdown",
   "id": "ec0088ec",
   "metadata": {},
   "source": [
    "## 1 Total recall"
   ]
  },
  {
   "cell_type": "markdown",
   "id": "5dc9f964",
   "metadata": {},
   "source": [
    "1. Supports functions, works sequentially, is case-sensitive, assignment \"=\" vs questioning \"==\", if-else, indentations, brackets, importing packages, the dot\n",
    "2. _allows comments, int and strings_"
   ]
  },
  {
   "cell_type": "markdown",
   "id": "3825e282",
   "metadata": {},
   "source": [
    "## 2 Debug Me"
   ]
  },
  {
   "cell_type": "code",
   "execution_count": 4,
   "id": "e6f0c29c",
   "metadata": {},
   "outputs": [
    {
     "name": "stdout",
     "output_type": "stream",
     "text": [
      "3 4 5.0\n"
     ]
    }
   ],
   "source": [
    "import math\n",
    "x, y = 3, 4\n",
    "z = math.sqrt(x**2 + y**2)\n",
    "print(x, y, z)\n"
   ]
  },
  {
   "cell_type": "markdown",
   "id": "ccfbf355",
   "metadata": {},
   "source": [
    "## 3 In Your Own Words"
   ]
  },
  {
   "cell_type": "markdown",
   "id": "499c937d",
   "metadata": {},
   "source": [
    "| #    |  Term   |    Description |\n",
    "| :--- | :--- | :--- |\n",
    "| 1   |  Function  |   A function accepts some value as input and outputs another value based on how it is programmed |\n",
    "| 2   |  Arguments  | The values input to a function |\n",
    "| 3   |  Comments  |  Text that does not get interpreted as code but rather is for humans to make sense of their own code |\n",
    "| 4   |  Indentations  | The way python organises code so that it can interpret them|\n",
    "| 5   |  Packages  |  Code written elsewhere that you can import to save time on commonly used functions |\n",
    "| 6   |  .  |   Indicate ownership |\n",
    "| 7   |  :  |   Designate a block of code |\n",
    "| 8   |  []  |   A list of data |\n",
    "| 9   |  [[],[]]  |   2 lists of data within a list. A 2D list. |\n",
    "| 10   |  {}  |   A dictionary |"
   ]
  },
  {
   "cell_type": "markdown",
   "id": "74a01b9d",
   "metadata": {},
   "source": [
    "## 4 More than One Way to Divide"
   ]
  },
  {
   "cell_type": "code",
   "execution_count": null,
   "id": "a7f8b0c4",
   "metadata": {},
   "outputs": [],
   "source": [
    "5/2 # Returns the numerical value of 5 divided b 2, which can be a float\n",
    "5//2 # Returns the integer quotient when 5 is divided by 2\n",
    "5%2 # Returns the remainder when 5 is divided by 2"
   ]
  }
 ],
 "metadata": {
  "kernelspec": {
   "display_name": "base",
   "language": "python",
   "name": "python3"
  },
  "language_info": {
   "codemirror_mode": {
    "name": "ipython",
    "version": 3
   },
   "file_extension": ".py",
   "mimetype": "text/x-python",
   "name": "python",
   "nbconvert_exporter": "python",
   "pygments_lexer": "ipython3",
   "version": "3.10.9"
  },
  "toc": {
   "base_numbering": 1,
   "nav_menu": {},
   "number_sections": true,
   "sideBar": true,
   "skip_h1_title": false,
   "title_cell": "Table of Contents",
   "title_sidebar": "Contents",
   "toc_cell": false,
   "toc_position": {},
   "toc_section_display": true,
   "toc_window_display": false
  }
 },
 "nbformat": 4,
 "nbformat_minor": 5
}
