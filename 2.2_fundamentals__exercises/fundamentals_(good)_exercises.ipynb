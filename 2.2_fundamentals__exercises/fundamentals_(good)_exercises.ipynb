{
 "cells": [
  {
   "attachments": {},
   "cell_type": "markdown",
   "id": "123456",
   "metadata": {},
   "source": [
    "<div style=\"text-align:left;font-size:2em\"><span style=\"font-weight:bolder;font-size:1.25em\">SP2273 | Learning Portfolio</span><br><br><span style=\"font-weight:bold;color:darkred\">Fundamentals (Good) Exercises</span></div>"
   ]
  },
  {
   "cell_type": "markdown",
   "id": "4d44d49a",
   "metadata": {},
   "source": [
    "# 1 f-strings to the rescue"
   ]
  },
  {
   "cell_type": "code",
   "execution_count": 2,
   "id": "da727e6a",
   "metadata": {},
   "outputs": [
    {
     "name": "stdout",
     "output_type": "stream",
     "text": [
      "What is your name? P\n"
     ]
    },
    {
     "name": "stdout",
     "output_type": "stream",
     "text": [
      "How you doin P!\n"
     ]
    }
   ],
   "source": [
    "# Task 1\n",
    "user_input = input(\"What is your name? \")\n",
    "print(f'How you doin {user_input}!')"
   ]
  },
  {
   "cell_type": "code",
   "execution_count": 4,
   "id": "2ae792db-23a2-4335-b413-d5d42fc91722",
   "metadata": {},
   "outputs": [
    {
     "name": "stdout",
     "output_type": "stream",
     "text": [
      "What is your name?  C\n",
      "What is your age?  13\n"
     ]
    },
    {
     "name": "stdout",
     "output_type": "stream",
     "text": [
      "My name is C and I am 13 years old\n"
     ]
    }
   ],
   "source": [
    "# Task 2\n",
    "name = input(\"What is your name? \")\n",
    "age = input(\"What is your age? \")\n",
    "print(f\"My name is {name} and I am {age} years old\")"
   ]
  },
  {
   "cell_type": "code",
   "execution_count": 21,
   "id": "0f7d49a7-23e4-4bde-ba5e-347b8aa85c14",
   "metadata": {},
   "outputs": [
    {
     "name": "stdout",
     "output_type": "stream",
     "text": [
      "The value of pi to 2 decimal places is: 3.14\n",
      "The value of pi to 3 decimal places is: 3.142\n",
      "The value of pi to 4 decimal places is: 3.1416\n"
     ]
    }
   ],
   "source": [
    "# Task 3\n",
    "pi = float(3.141592653589793)\n",
    "print(f\"The value of pi to 2 decimal places is: {pi:.2f}\")\n",
    "print(f\"The value of pi to 3 decimal places is: {pi:.3f}\")\n",
    "print(f\"The value of pi to 4 decimal places is: {pi:.4f}\")"
   ]
  },
  {
   "cell_type": "code",
   "execution_count": 35,
   "id": "957bbf25-9aec-477e-841e-bf05e3afef41",
   "metadata": {},
   "outputs": [
    {
     "name": "stdout",
     "output_type": "stream",
     "text": [
      "Apple      $ 0.99\n",
      "Banana     $ 0.59\n",
      "Orange     $ 1.29\n"
     ]
    }
   ],
   "source": [
    "# Task 4\n",
    "fruits = [\"Apple\", \"Banana\", \"Orange\"]\n",
    "price = [\"0.99\", \"0.59\",\"1.29\"]\n",
    "for i in range(len(fruits)):\n",
    "    print(f\"{fruits[i]:<10} ${price[i]:>5}\")"
   ]
  },
  {
   "cell_type": "markdown",
   "id": "f4f6fa1e",
   "metadata": {},
   "source": [
    "## 2 What is your grade"
   ]
  },
  {
   "cell_type": "code",
   "execution_count": 9,
   "id": "f3c53343",
   "metadata": {},
   "outputs": [
    {
     "name": "stdout",
     "output_type": "stream",
     "text": [
      "Invalid input\n"
     ]
    }
   ],
   "source": [
    "try:\n",
    "    grade = int(input(\"Enter the student's score: \"))\n",
    "    if grade < 0 or grade > 100:\n",
    "        print(\"Out of range\")\n",
    "    elif 35 <= grade <= 49:\n",
    "        print(\"The student's letter grade is: C\")\n",
    "    elif 50 <= grade <= 69:\n",
    "        print(\"The student's letter grade is: B\")\n",
    "    elif grade > 69:\n",
    "        print(\"The student's letter grade is: A\")\n",
    "    elif grade <= 34:\n",
    "        print(\"The student's letter grade is: Fail\")\n",
    "except ValueError:\n",
    "    print(\"Invalid input\")"
   ]
  },
  {
   "cell_type": "markdown",
   "id": "f2ac6b18",
   "metadata": {},
   "source": [
    "## 3 Debugging Code"
   ]
  },
  {
   "cell_type": "code",
   "execution_count": 20,
   "id": "398472af-dfd2-45cd-ae3d-2a3643588fa2",
   "metadata": {},
   "outputs": [
    {
     "name": "stdout",
     "output_type": "stream",
     "text": [
      "120\n",
      "Invalid input\n"
     ]
    }
   ],
   "source": [
    "def factorial(n):\n",
    "    if n < 0: # Change more than to less than\n",
    "        return \"Invalid input\"\n",
    "    elif n == 0: # Change not equal to equal\n",
    "        return 1\n",
    "    else:\n",
    "        result = 1\n",
    "        for number in range(1, n+1):\n",
    "            result *= number # Change addition to multiplication\n",
    "        return result\n",
    "\n",
    "\n",
    "print(factorial(5))   # Testing, expected output: 120\n",
    "print(factorial(-1))  # Testing, expected output: Invalid input"
   ]
  }
 ],
 "metadata": {
  "kernelspec": {
   "display_name": "base",
   "language": "python",
   "name": "python3"
  },
  "language_info": {
   "codemirror_mode": {
    "name": "ipython",
    "version": 3
   },
   "file_extension": ".py",
   "mimetype": "text/x-python",
   "name": "python",
   "nbconvert_exporter": "python",
   "pygments_lexer": "ipython3",
   "version": "3.13.5"
  },
  "toc": {
   "base_numbering": 1,
   "nav_menu": {},
   "number_sections": true,
   "sideBar": true,
   "skip_h1_title": false,
   "title_cell": "Table of Contents",
   "title_sidebar": "Contents",
   "toc_cell": false,
   "toc_position": {},
   "toc_section_display": true,
   "toc_window_display": false
  }
 },
 "nbformat": 4,
 "nbformat_minor": 5
}
