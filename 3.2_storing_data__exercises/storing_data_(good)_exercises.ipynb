{
 "cells": [
  {
   "attachments": {},
   "cell_type": "markdown",
   "id": "123456",
   "metadata": {},
   "source": [
    "<div style=\"text-align:left;font-size:2em\"><span style=\"font-weight:bolder;font-size:1.25em\">SP2273 | Learning Portfolio</span><br><br><span style=\"font-weight:bold;color:darkred\">Storing Data (Good) Exercises</span></div>"
   ]
  },
  {
   "cell_type": "markdown",
   "id": "22673b86",
   "metadata": {},
   "source": [
    "## 1 Total Recall\n",
    "\n",
    "| Term       | Brief description |\n",
    "|------------|-------------------|\n",
    "| Subsetting | To select         |\n",
    "| Indexing   | Select a single elment         |\n",
    "| Slicing    | Select a range of elements                  |\n",
    "| Masking    | Selecting elements based on a condition                  |"
   ]
  },
  {
   "cell_type": "markdown",
   "id": "675394be",
   "metadata": {},
   "source": [
    "## 2 Show me the ‘odd’ letters"
   ]
  },
  {
   "cell_type": "code",
   "execution_count": null,
   "id": "b64acfeb",
   "metadata": {},
   "outputs": [
    {
     "name": "stdout",
     "output_type": "stream",
     "text": [
      "['A' 'C' 'E' 'G' 'I']\n"
     ]
    }
   ],
   "source": [
    "import numpy as np\n",
    "\n",
    "np_array_2d = np.array([[1, \"A\"], [3, \"C\"], [2, \"B\"], [4, \"D\"],\n",
    "                        [5, \"E\"], [7, \"G\"], [6, \"F\"], [8, \"H\"],\n",
    "                        [10, \"J\"], [9, \"I\"]])\n",
    "\n",
    "odd_numbers = np_array_2d[:,0].astype(int)%2 == 1 # Select and cast odd numbers into integers\n",
    "odd_letters = np_array_2d[odd_numbers, 1] # Select the matching letters\n",
    "print(odd_letters)"
   ]
  },
  {
   "cell_type": "markdown",
   "id": "10bd3fd6",
   "metadata": {},
   "source": [
    "## 3 NumPy Masking"
   ]
  },
  {
   "cell_type": "code",
   "execution_count": 27,
   "id": "eaab3339",
   "metadata": {},
   "outputs": [
    {
     "name": "stdout",
     "output_type": "stream",
     "text": [
      "[[ 1  0  1 -1 -1]\n",
      " [ 1 -1  1 -1 -1]\n",
      " [ 1 -1 -1  1 -1]\n",
      " [-1  1  1 -1 -1]\n",
      " [ 1 -1  1 -1  1]]\n"
     ]
    }
   ],
   "source": [
    "import numpy as np\n",
    "\n",
    "np_array_2d = np.array([\n",
    "    [66, 50, 57, -1, -1],\n",
    "    [92, -1, 88, -1, -1],\n",
    "    [75, -1, -1, 76, -1],\n",
    "    [-1, 51, 87, -1, -1],\n",
    "    [71, -1, 67, -1, 69]])\n",
    "\n",
    "mask_less = (np_array_2d < 50)*-1\n",
    "mask_more = (np_array_2d > 50)*1\n",
    "print(mask_less + mask_more)"
   ]
  },
  {
   "cell_type": "code",
   "execution_count": 1,
   "id": "438be0a8",
   "metadata": {},
   "outputs": [
    {
     "name": "stdout",
     "output_type": "stream",
     "text": [
      "[[ 1  0  1 -1 -1]\n",
      " [ 1 -1  1 -1 -1]\n",
      " [ 1 -1 -1  1 -1]\n",
      " [-1  1  1 -1 -1]\n",
      " [ 1 -1  1 -1  1]]\n"
     ]
    }
   ],
   "source": [
    "# Changing the original array\n",
    "\n",
    "import numpy as np\n",
    "\n",
    "np_array_2d = np.array([\n",
    "    [66, 50, 57, -1, -1],\n",
    "    [92, -1, 88, -1, -1],\n",
    "    [75, -1, -1, 76, -1],\n",
    "    [-1, 51, 87, -1, -1],\n",
    "    [71, -1, 67, -1, 69]])\n",
    "\n",
    "mask_less = (np_array_2d < 50)*-1\n",
    "mask_more = (np_array_2d > 50)*1\n",
    "np_array_2d = mask_less + mask_more\n",
    "print(np_array_2d)"
   ]
  }
 ],
 "metadata": {
  "kernelspec": {
   "display_name": "base",
   "language": "python",
   "name": "python3"
  },
  "language_info": {
   "codemirror_mode": {
    "name": "ipython",
    "version": 3
   },
   "file_extension": ".py",
   "mimetype": "text/x-python",
   "name": "python",
   "nbconvert_exporter": "python",
   "pygments_lexer": "ipython3",
   "version": "3.13.5"
  },
  "toc": {
   "base_numbering": 1,
   "nav_menu": {},
   "number_sections": true,
   "sideBar": true,
   "skip_h1_title": false,
   "title_cell": "Table of Contents",
   "title_sidebar": "Contents",
   "toc_cell": false,
   "toc_position": {},
   "toc_section_display": true,
   "toc_window_display": false
  }
 },
 "nbformat": 4,
 "nbformat_minor": 5
}
