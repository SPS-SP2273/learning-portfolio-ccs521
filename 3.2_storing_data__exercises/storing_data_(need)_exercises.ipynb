{
 "cells": [
  {
   "attachments": {},
   "cell_type": "markdown",
   "id": "123456",
   "metadata": {},
   "source": [
    "<div style=\"text-align:left;font-size:2em\"><span style=\"font-weight:bolder;font-size:1.25em\">SP2273 | Learning Portfolio</span><br><br><span style=\"font-weight:bold;color:darkred\">Storing Data (Need) Exercises</span></div>"
   ]
  },
  {
   "cell_type": "markdown",
   "id": "6f7c9654",
   "metadata": {},
   "source": [
    "## 1 Total Recall\n",
    "\n",
    "1. Both lists and arrays contain data that are zero-based indexed. We can use len() to find the size of both lists and arrays \n",
    "2. Lists allow for different datatypes, arrays insist on having the same datatype. Arrays support mathematics better than lists. When 2 lists of numbers are added, they get concatenated, but when 2 arrays of numbers are added, the numbers add on a indexed basis. \n",
    "3. A dictionary contains data that are stored as key-value pairs"
   ]
  },
  {
   "cell_type": "markdown",
   "id": "1629814a",
   "metadata": {},
   "source": [
    "## 2 Indexing"
   ]
  },
  {
   "cell_type": "code",
   "execution_count": 3,
   "id": "2411127e",
   "metadata": {},
   "outputs": [
    {
     "name": "stdout",
     "output_type": "stream",
     "text": [
      "a1\n",
      "c3\n",
      "e5\n",
      "g7\n",
      "i9\n"
     ]
    }
   ],
   "source": [
    "py_list = [\"a1\", \"b2\", \"c3\", \"d4\", \"e5\", \"f6\", \"g7\", \"h8\", \"i9\", \"j10\"]\n",
    "print(py_list[0])                    # Prints 'a1'\n",
    "print(py_list[2])                    # Prints 'c3'\n",
    "print(py_list[4])                    # Prints 'e5'\n",
    "print(py_list[6])                    # Prints 'g7'\n",
    "print(py_list[8])                    # Prints 'i9'"
   ]
  },
  {
   "cell_type": "markdown",
   "id": "c18d71d4",
   "metadata": {},
   "source": [
    "## 3 Index Again"
   ]
  },
  {
   "cell_type": "code",
   "execution_count": 3,
   "id": "5217d276",
   "metadata": {},
   "outputs": [
    {
     "name": "stdout",
     "output_type": "stream",
     "text": [
      "Beryllium\n",
      "Nitrogen\n"
     ]
    }
   ],
   "source": [
    "elements = ['Hydrogen',\n",
    "            'Helium', 'Lithium',\n",
    "            'Beryllium', 'Boron', 'Carbon',\n",
    "            'Nitrogen', 'Oxygen',\n",
    "            'Fluorine',\n",
    "            'Neon']\n",
    "print(elements[3])\n",
    "print(elements[-4])"
   ]
  },
  {
   "cell_type": "markdown",
   "id": "fd9ce9e3",
   "metadata": {},
   "source": [
    "## 4 How Many Ones"
   ]
  },
  {
   "cell_type": "code",
   "execution_count": 3,
   "id": "cc4cd7f1",
   "metadata": {},
   "outputs": [
    {
     "name": "stdout",
     "output_type": "stream",
     "text": [
      "9\n"
     ]
    }
   ],
   "source": [
    "import numpy as np\n",
    "\n",
    "numbers=[45, 60, 1, 30, 96, 1, 96, 57, 16, 1,\n",
    "        99, 62, 86, 43, 42, 60, 59, 1, 1, 35,\n",
    "        83, 47, 34, 28, 68, 23, 22, 92, 1, 79,\n",
    "        1, 29, 94, 72, 46, 47, 1, 74, 32, 20,\n",
    "        8, 37, 35, 1, 89, 29, 86, 19, 43, 61]                  \n",
    "np_array = np.array(numbers)\n",
    "ones = sum(np_array==1) # Summing number of True values\n",
    "print(ones)"
   ]
  },
  {
   "cell_type": "markdown",
   "id": "302f140e",
   "metadata": {},
   "source": [
    "## 5 A Matter of Statistics"
   ]
  },
  {
   "cell_type": "code",
   "execution_count": null,
   "id": "0f27fdd1",
   "metadata": {},
   "outputs": [
    {
     "name": "stdout",
     "output_type": "stream",
     "text": [
      "38.5\n",
      "302.5\n",
      "32.41990129534635\n",
      "326.0893282522444\n",
      "0.9871796626270701 0.9871796626270701\n"
     ]
    }
   ],
   "source": [
    "import numpy as np\n",
    "x_1 = np.array([1, 4, 9, 16, 25, 36, 49, 64, 81, 100])\n",
    "x_2 = np.array([1, 8, 27, 64, 125, 216, 343, 512, 729, 1000])\n",
    "mean_x1 = np.mean(x_1)\n",
    "mean_x2 = np.mean(x_2)\n",
    "std_x1 = np.std(x_1)\n",
    "std_x2 = np.std(x_2)\n",
    "\n",
    "pear_top = np.sum((x_1 - mean_x1)*(x_2 - mean_x2)) # Numerator\n",
    "pear_bottom = np.sqrt(np.sum((x_1 - mean_x1)**2)*np.sum((x_2 - mean_x2)**2)) # Denomenator\n",
    "pearson = pear_top / pear_bottom # Formula for Pearson Correlation Coefficient\n",
    "npc = np.corrcoef(x_1, x_2)\n",
    "print(mean_x1, mean_x2, std_x1, std_x2, sep=\"\\n\")\n",
    "print(pearson, npc[0,1])"
   ]
  }
 ],
 "metadata": {
  "kernelspec": {
   "display_name": "base",
   "language": "python",
   "name": "python3"
  },
  "language_info": {
   "codemirror_mode": {
    "name": "ipython",
    "version": 3
   },
   "file_extension": ".py",
   "mimetype": "text/x-python",
   "name": "python",
   "nbconvert_exporter": "python",
   "pygments_lexer": "ipython3",
   "version": "3.13.5"
  },
  "toc": {
   "base_numbering": 1,
   "nav_menu": {},
   "number_sections": true,
   "sideBar": true,
   "skip_h1_title": false,
   "title_cell": "Table of Contents",
   "title_sidebar": "Contents",
   "toc_cell": false,
   "toc_position": {},
   "toc_section_display": true,
   "toc_window_display": false
  }
 },
 "nbformat": 4,
 "nbformat_minor": 5
}
