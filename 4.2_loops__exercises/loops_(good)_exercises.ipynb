{
 "cells": [
  {
   "attachments": {},
   "cell_type": "markdown",
   "id": "123456",
   "metadata": {},
   "source": [
    "<div style=\"text-align:left;font-size:2em\"><span style=\"font-weight:bolder;font-size:1.25em\">SP2273 | Learning Portfolio</span><br><br><span style=\"font-weight:bold;color:darkred\">Loops (Good) Exercises</span></div>"
   ]
  },
  {
   "cell_type": "markdown",
   "id": "92ace0a5",
   "metadata": {},
   "source": [
    "## 1 Make me an odd list"
   ]
  },
  {
   "cell_type": "code",
   "execution_count": 15,
   "id": "5a8708a1",
   "metadata": {},
   "outputs": [
    {
     "name": "stdout",
     "output_type": "stream",
     "text": [
      "[1, 9, 25, 49, 81]\n"
     ]
    }
   ],
   "source": [
    "odd_list = []\n",
    "for i in range(10):\n",
    "    if i%2 == 0:\n",
    "        continue\n",
    "    odd_list.append(i**2)\n",
    "print(odd_list)"
   ]
  },
  {
   "cell_type": "markdown",
   "id": "1fc02c5f",
   "metadata": {},
   "source": [
    "## 2 Make me another odd list"
   ]
  },
  {
   "cell_type": "code",
   "execution_count": 11,
   "id": "226f8a06",
   "metadata": {},
   "outputs": [
    {
     "data": {
      "text/plain": [
       "[1, 9, 25, 49, 81]"
      ]
     },
     "execution_count": 11,
     "metadata": {},
     "output_type": "execute_result"
    }
   ],
   "source": [
    "[number**2 for number in range(10) if number%2==1]"
   ]
  },
  {
   "cell_type": "markdown",
   "id": "05d79111",
   "metadata": {},
   "source": [
    "## 3 Time me"
   ]
  },
  {
   "cell_type": "code",
   "execution_count": 13,
   "id": "d2990fa3",
   "metadata": {},
   "outputs": [
    {
     "name": "stdout",
     "output_type": "stream",
     "text": [
      "882 ns ± 16.1 ns per loop (mean ± std. dev. of 7 runs, 1,000,000 loops each)\n"
     ]
    }
   ],
   "source": [
    "%%timeit\n",
    "odd_list = []\n",
    "for i in range(10):\n",
    "    if i%2 == 0:\n",
    "        continue\n",
    "    odd_list.append(i**2)"
   ]
  },
  {
   "cell_type": "code",
   "execution_count": 16,
   "id": "e79af5b1",
   "metadata": {},
   "outputs": [
    {
     "name": "stdout",
     "output_type": "stream",
     "text": [
      "834 ns ± 5.44 ns per loop (mean ± std. dev. of 7 runs, 1,000,000 loops each)\n"
     ]
    }
   ],
   "source": [
    "%%timeit\n",
    "[number**2 for number in range(10) if number%2==1]"
   ]
  },
  {
   "cell_type": "markdown",
   "id": "ba496490",
   "metadata": {},
   "source": [
    "List comprehension is slightly faster with smaller standard deviation too. "
   ]
  },
  {
   "cell_type": "markdown",
   "id": "f471e5f2",
   "metadata": {},
   "source": [
    "## 4 A problem of decay"
   ]
  },
  {
   "cell_type": "code",
   "execution_count": 2,
   "id": "aade4432",
   "metadata": {},
   "outputs": [
    {
     "name": "stdout",
     "output_type": "stream",
     "text": [
      "It takes 14 years\n"
     ]
    }
   ],
   "source": [
    "initial_quantity = 100\n",
    "new_quantity = initial_quantity\n",
    "time = 0\n",
    "\n",
    "while (new_quantity > initial_quantity / 2):\n",
    "    new_quantity = 0.95*new_quantity\n",
    "    time += 1\n",
    "print(f\"It takes {time} years\")"
   ]
  },
  {
   "cell_type": "markdown",
   "id": "237bbf15",
   "metadata": {},
   "source": [
    "## 5 Changes in CO<sub>2</sub>"
   ]
  },
  {
   "cell_type": "code",
   "execution_count": 18,
   "id": "b1df3e19",
   "metadata": {},
   "outputs": [
    {
     "name": "stdout",
     "output_type": "stream",
     "text": [
      "Year 2016 showed a 3.41ppm increase from the previous year\n"
     ]
    }
   ],
   "source": [
    "co2_data = [\n",
    "    (2000, 369.55), (2001, 371.14), (2002, 373.28), \n",
    "    (2003, 375.80), (2004, 377.52), (2005, 379.80), \n",
    "    (2006, 381.90), (2007, 383.79), (2008, 385.60), \n",
    "    (2009, 387.43), (2010, 389.90), (2011, 391.65), \n",
    "    (2012, 393.85), (2013, 396.52), (2014, 398.65),\n",
    "    (2015, 400.83), (2016, 404.24), (2017, 406.55), \n",
    "    (2018, 408.52), (2019, 411.44), (2020, 414.24)\n",
    "]\n",
    "\n",
    "for i in range(len(co2_data)):\n",
    "    if i == 0:\n",
    "        continue\n",
    "    difference = co2_data[i][1] - co2_data[i-1][1]\n",
    "    if difference >= 3:\n",
    "        print(f\"Year {co2_data[i][0]} showed a {difference:.2f}ppm increase from the previous year\")"
   ]
  }
 ],
 "metadata": {
  "kernelspec": {
   "display_name": "base",
   "language": "python",
   "name": "python3"
  },
  "language_info": {
   "codemirror_mode": {
    "name": "ipython",
    "version": 3
   },
   "file_extension": ".py",
   "mimetype": "text/x-python",
   "name": "python",
   "nbconvert_exporter": "python",
   "pygments_lexer": "ipython3",
   "version": "3.13.5"
  },
  "toc": {
   "base_numbering": 1,
   "nav_menu": {},
   "number_sections": true,
   "sideBar": true,
   "skip_h1_title": false,
   "title_cell": "Table of Contents",
   "title_sidebar": "Contents",
   "toc_cell": false,
   "toc_position": {},
   "toc_section_display": true,
   "toc_window_display": false
  }
 },
 "nbformat": 4,
 "nbformat_minor": 5
}
