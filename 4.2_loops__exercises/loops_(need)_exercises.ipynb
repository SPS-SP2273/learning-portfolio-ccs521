{
 "cells": [
  {
   "attachments": {},
   "cell_type": "markdown",
   "id": "123456",
   "metadata": {},
   "source": [
    "<div style=\"text-align:left;font-size:2em\"><span style=\"font-weight:bolder;font-size:1.25em\">SP2273 | Learning Portfolio</span><br><br><span style=\"font-weight:bold;color:darkred\">Loops (Need) Exercises</span></div>"
   ]
  },
  {
   "cell_type": "markdown",
   "id": "4585e6bc",
   "metadata": {},
   "source": [
    "## 1 Celsius to Fahrenheit"
   ]
  },
  {
   "cell_type": "code",
   "execution_count": 2,
   "id": "6bb2c8d8",
   "metadata": {},
   "outputs": [
    {
     "name": "stdout",
     "output_type": "stream",
     "text": [
      "Celsius: 0, Farenheit: 32.0\n",
      "Celsius: 5, Farenheit: 41.0\n",
      "Celsius: 10, Farenheit: 50.0\n",
      "Celsius: 15, Farenheit: 59.0\n",
      "Celsius: 20, Farenheit: 68.0\n",
      "Celsius: 25, Farenheit: 77.0\n",
      "Celsius: 30, Farenheit: 86.0\n",
      "Celsius: 35, Farenheit: 95.0\n",
      "Celsius: 40, Farenheit: 104.0\n",
      "Celsius: 45, Farenheit: 113.0\n",
      "Celsius: 50, Farenheit: 122.0\n"
     ]
    }
   ],
   "source": [
    "temperatures_celsius = [\n",
    "    0, 5, 10, 15, 20, 25,\n",
    "    30, 35, 40, 45, 50]\n",
    "\n",
    "for i in range(len(temperatures_celsius)):\n",
    "    fahrenheit = temperatures_celsius[i]*(9/5) + 32\n",
    "    print(f\"Celsius: {temperatures_celsius[i]}, Farenheit: {fahrenheit}\")"
   ]
  },
  {
   "cell_type": "markdown",
   "id": "1da57675",
   "metadata": {},
   "source": [
    "## 2 Multiplication Table"
   ]
  },
  {
   "cell_type": "code",
   "execution_count": 4,
   "id": "368348a5",
   "metadata": {},
   "outputs": [
    {
     "name": "stdout",
     "output_type": "stream",
     "text": [
      "1 : 1\t2\t3\t4\t5\t\n",
      "2 : 2\t4\t6\t8\t10\t\n",
      "3 : 3\t6\t9\t12\t15\t\n",
      "4 : 4\t8\t12\t16\t20\t\n",
      "5 : 5\t10\t15\t20\t25\t\n"
     ]
    }
   ],
   "source": [
    "for i in range(1, 6):\n",
    "    print(f\"{i} : \", end=\"\")\n",
    "    for j in range(1, 6):\n",
    "        print(f\"{i*j}\", end=\"\\t\")\n",
    "    print(\"\\n\", end=\"\")"
   ]
  },
  {
   "cell_type": "markdown",
   "id": "6164d9d2",
   "metadata": {},
   "source": [
    "## 3 Simulating a coin flip experiment"
   ]
  },
  {
   "cell_type": "code",
   "execution_count": null,
   "id": "a49d21ee",
   "metadata": {},
   "outputs": [
    {
     "name": "stdout",
     "output_type": "stream",
     "text": [
      "Experiment 1: No. of Heads = 4\n",
      "Experiment 2: No. of Heads = 5\n",
      "Experiment 3: No. of Heads = 5\n",
      "Experiment 4: No. of Heads = 3\n",
      "Experiment 5: No. of Heads = 5\n",
      "Experiment 6: No. of Heads = 5\n",
      "Experiment 7: No. of Heads = 5\n",
      "Experiment 8: No. of Heads = 6\n",
      "Experiment 9: No. of Heads = 4\n",
      "Experiment 10: No. of Heads = 6\n"
     ]
    }
   ],
   "source": [
    "import random\n",
    "\n",
    "for i in range(1, 11):\n",
    "    heads = 0\n",
    "    for j in range(10):\n",
    "        x = random.randint(0,1) # Tail is represented with 0, Heads is 1\n",
    "        if x==1:\n",
    "            heads += 1\n",
    "    print(f\"Experiment {i}: No. of Heads = {heads}\")"
   ]
  }
 ],
 "metadata": {
  "kernelspec": {
   "display_name": "base",
   "language": "python",
   "name": "python3"
  },
  "language_info": {
   "codemirror_mode": {
    "name": "ipython",
    "version": 3
   },
   "file_extension": ".py",
   "mimetype": "text/x-python",
   "name": "python",
   "nbconvert_exporter": "python",
   "pygments_lexer": "ipython3",
   "version": "3.13.5"
  },
  "toc": {
   "base_numbering": 1,
   "nav_menu": {},
   "number_sections": true,
   "sideBar": true,
   "skip_h1_title": false,
   "title_cell": "Table of Contents",
   "title_sidebar": "Contents",
   "toc_cell": false,
   "toc_position": {},
   "toc_section_display": true,
   "toc_window_display": false
  }
 },
 "nbformat": 4,
 "nbformat_minor": 5
}
