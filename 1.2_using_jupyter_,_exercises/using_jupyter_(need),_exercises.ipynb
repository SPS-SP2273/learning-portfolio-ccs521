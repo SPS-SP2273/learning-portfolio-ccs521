{
 "cells": [
  {
   "attachments": {},
   "cell_type": "markdown",
   "id": "123456",
   "metadata": {},
   "source": [
    "<div style=\"text-align:left;font-size:2em\"><span style=\"font-weight:bolder;font-size:1.25em\">SP2273 | Learning Portfolio</span><br><br><span style=\"font-weight:bold;color:darkred\">Using Jupyter (Need), Exercises</span></div>"
   ]
  },
  {
   "attachments": {},
   "cell_type": "markdown",
   "id": "8166973e",
   "metadata": {},
   "source": [
    "## 1 Quadratic Equations"
   ]
  },
  {
   "attachments": {},
   "cell_type": "markdown",
   "id": "809468ae",
   "metadata": {},
   "source": [
    "### Introduction"
   ]
  },
  {
   "cell_type": "markdown",
   "id": "79efb745",
   "metadata": {},
   "source": [
    "![](https://upload.wikimedia.org/wikipedia/commons/thumb/f/f8/Polynomialdeg2.svg/450px-Polynomialdeg2.svg.png)"
   ]
  },
  {
   "cell_type": "markdown",
   "id": "3eb27e59",
   "metadata": {},
   "source": [
    "(_Image from the_ [_Wikipedia page on Quadratic equations_](https://en.wikipedia.org/wiki/Quadratic_equation))\n",
    "\n",
    "The general form of a quadratic equation is:\n",
    "$$\n",
    "ax^2 + bx + c\n",
    "$$"
   ]
  },
  {
   "attachments": {},
   "cell_type": "markdown",
   "id": "e2564c8a",
   "metadata": {},
   "source": [
    "### Solutions"
   ]
  },
  {
   "cell_type": "markdown",
   "id": "19aa99e6",
   "metadata": {},
   "source": [
    "Provided $a \\ne 0$, we can use an elementary algebraic method called [completing the square](https://en.wikipedia.org/wiki/Completing_the_square) to show that a quadratic equation has the following solution:\n",
    "\n",
    "$$\n",
    "x = \\dfrac{-b \\pm \\sqrt{b^2-4ac}}{2a}\n",
    "$$"
   ]
  },
  {
   "attachments": {},
   "cell_type": "markdown",
   "id": "e08ce499",
   "metadata": {},
   "source": [
    "### Discriminant"
   ]
  },
  {
   "cell_type": "markdown",
   "id": "19a920e5",
   "metadata": {},
   "source": [
    "The quantity $ \\Delta = b^2 - 4ac$ is called the **discriminant** of the equation and decides the nature of its solutions. The table below shows the various possibilities"
   ]
  },
  {
   "cell_type": "markdown",
   "id": "9edb5e90",
   "metadata": {},
   "source": [
    "| Discriminant    | Roots |\n",
    "| :--- | :--- |\n",
    "| $ \\Delta = b^2 - 4ac = 0$   |A single solution of $-\\dfrac{b}{2a}$ |\n",
    "| $ \\Delta = b^2 - 4ac > 0$   |Two distinct solutions |\n",
    "| $ \\Delta = b^2 - 4ac < 0$   |No real solutions; both are complex. |"
   ]
  },
  {
   "cell_type": "markdown",
   "id": "b232508e",
   "metadata": {},
   "source": [
    "## 2 In Your Own Words"
   ]
  },
  {
   "cell_type": "markdown",
   "id": "51039101",
   "metadata": {},
   "source": [
    "1. A Git repository is like Google Drive except that it can keep track of changes to code\n",
    "2. Changes\n",
    "3. A commit highlights changes made to a file with descriptions that show up in the repository\n",
    "4. A push syncs the changes made to the file from one's local desktop to the cloud\n",
    "5. A pull syncs the changes made to the file from the cloud to one's local desktop\n",
    "6. Github is web based, Github Desktop is Github but accessible locally through one's device"
   ]
  },
  {
   "cell_type": "markdown",
   "id": "bd095360",
   "metadata": {},
   "source": [
    "## 3 A Matter of Statistics"
   ]
  },
  {
   "cell_type": "markdown",
   "id": "2d505162",
   "metadata": {},
   "source": [
    "$$\n",
    "\\mu = \\dfrac{1}{n}\\sum_{i=1}^{n}x_i\n",
    "$$\n",
    "$$\n",
    "\\sigma = \\sqrt{\\dfrac{1}{n}\\sum_{i=1}^{n}(x_i-\\mu)^2}\n",
    "$$\n",
    "$$\n",
    "r = \\dfrac{\\sum_{i=1}^{n}(x_i-\\mu_X)(y_i-\\mu_Y)}{\\sqrt{\\sum_{i=1}^{n}(x_i-\\mu_X)^2\\sum_{i=1}^{n}(y_i-\\mu_Y)^2}}\n",
    "$$"
   ]
  }
 ],
 "metadata": {
  "kernelspec": {
   "display_name": "base",
   "language": "python",
   "name": "python3"
  },
  "language_info": {
   "codemirror_mode": {
    "name": "ipython",
    "version": 3
   },
   "file_extension": ".py",
   "mimetype": "text/x-python",
   "name": "python",
   "nbconvert_exporter": "python",
   "pygments_lexer": "ipython3",
   "version": "3.10.9"
  },
  "toc": {
   "base_numbering": 1,
   "nav_menu": {},
   "number_sections": true,
   "sideBar": true,
   "skip_h1_title": false,
   "title_cell": "Table of Contents",
   "title_sidebar": "Contents",
   "toc_cell": false,
   "toc_position": {},
   "toc_section_display": true,
   "toc_window_display": false
  }
 },
 "nbformat": 4,
 "nbformat_minor": 5
}
